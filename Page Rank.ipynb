{
 "cells": [
  {
   "cell_type": "code",
   "execution_count": 1,
   "id": "d61f626a",
   "metadata": {},
   "outputs": [],
   "source": [
    "import numpy as np\n",
    "from sklearn.preprocessing import normalize\n",
    "import time\n",
    "import pandas as pd"
   ]
  },
  {
   "cell_type": "markdown",
   "id": "267b07d4",
   "metadata": {},
   "source": [
    "### Initializing constants"
   ]
  },
  {
   "cell_type": "code",
   "execution_count": 2,
   "id": "4a3a023c",
   "metadata": {},
   "outputs": [],
   "source": [
    "alpha = 0.85\n",
    "epsilon = 0.00001\n",
    "file = \"links.txt\""
   ]
  },
  {
   "cell_type": "markdown",
   "id": "4d691a70",
   "metadata": {},
   "source": [
    "### Reading the links.txt file"
   ]
  },
  {
   "cell_type": "code",
   "execution_count": 3,
   "id": "4559bd3d",
   "metadata": {},
   "outputs": [
    {
     "name": "stdout",
     "output_type": "stream",
     "text": [
      "Number of nodes: 10748\n",
      "Shape of the dataframe: (4283119, 3)\n"
     ]
    }
   ],
   "source": [
    "start_time = time.time()\n",
    "df = pd.read_csv(file,sep=\",\",header=None,names=['jrnl','jrnl_cited','count'])\n",
    "if df['jrnl'].nunique() > df['jrnl_cited'].nunique():\n",
    "    nodes = df['jrnl'].nunique()\n",
    "else:\n",
    "    nodes = df['jrnl_cited'].nunique()\n",
    "print(\"Number of nodes:\", nodes)\n",
    "print(\"Shape of the dataframe:\",df.shape)"
   ]
  },
  {
   "cell_type": "markdown",
   "id": "f15fb139",
   "metadata": {},
   "source": [
    "### Adjacency matrix (Z)"
   ]
  },
  {
   "cell_type": "code",
   "execution_count": 4,
   "id": "a4b816d4",
   "metadata": {},
   "outputs": [
    {
     "name": "stdout",
     "output_type": "stream",
     "text": [
      "Shape: (10748, 10748)\n"
     ]
    }
   ],
   "source": [
    "# Example raw adjacency matrix (Z)\n",
    "# raw_data = np.matrix('1 0 2 0 4 3; 3 0 1 1 0 0; 2 0 4 0 1 0; 0 0 1 0 0 1; 8 0 3 0 5 2; 0 0 0 0 0 0')\n",
    "# raw_data\n",
    "\n",
    "\n",
    "# Initialise an adj. matrix with 0\n",
    "adj_matrix = np.zeros((nodes,nodes))\n",
    "# File read    \n",
    "with open(file) as f:\n",
    "    for index, lines in enumerate(f):\n",
    "        # File split on commas\n",
    "        line = lines.split(',')\n",
    "        # Citing journal \n",
    "        jrnl = int(line[0])\n",
    "        # Journal that is cited\n",
    "        jrnl_cited = int(line[1])\n",
    "        # Number of time the journal is cited from the citing journal\n",
    "        citations = int(line[2])\n",
    "            \n",
    "    #Creating adjacency matrix - Intersection of jrnl(column) and jrnl_cited (row) contains the number of citations\n",
    "        adj_matrix[jrnl_cited][jrnl] = citations\n",
    "print(\"Shape:\",adj_matrix.shape)"
   ]
  },
  {
   "cell_type": "markdown",
   "id": "7e0e3c08",
   "metadata": {},
   "source": [
    "### Set the diagonals of the Adjacency matrix to 0"
   ]
  },
  {
   "cell_type": "code",
   "execution_count": 5,
   "id": "96503576",
   "metadata": {},
   "outputs": [
    {
     "name": "stdout",
     "output_type": "stream",
     "text": [
      "Adjacency matrix after diagonals are 0:\n",
      "[[0. 0. 0. ... 0. 0. 0.]\n",
      " [0. 0. 0. ... 0. 0. 0.]\n",
      " [0. 0. 0. ... 0. 0. 0.]\n",
      " ...\n",
      " [0. 0. 0. ... 0. 0. 0.]\n",
      " [0. 0. 0. ... 0. 0. 0.]\n",
      " [0. 0. 0. ... 0. 0. 0.]]\n",
      "Shape: (10748, 10748)\n"
     ]
    }
   ],
   "source": [
    "# Set the diagonal to zero\n",
    "# np.fill_diagonal(raw_data, 0)\n",
    "# raw_data\n",
    "\n",
    "np.fill_diagonal(adj_matrix, 0)\n",
    "print(\"Adjacency matrix after diagonals are 0:\")\n",
    "print(adj_matrix)\n",
    "print(\"Shape:\",adj_matrix.shape)"
   ]
  },
  {
   "cell_type": "markdown",
   "id": "d11c266b",
   "metadata": {},
   "source": [
    "### Normalizing adjacency matrix (H)"
   ]
  },
  {
   "cell_type": "code",
   "execution_count": 6,
   "id": "75df8f5b",
   "metadata": {},
   "outputs": [
    {
     "name": "stdout",
     "output_type": "stream",
     "text": [
      "Normalized matrix:\n",
      "[[0. 0. 0. ... 0. 0. 0.]\n",
      " [0. 0. 0. ... 0. 0. 0.]\n",
      " [0. 0. 0. ... 0. 0. 0.]\n",
      " ...\n",
      " [0. 0. 0. ... 0. 0. 0.]\n",
      " [0. 0. 0. ... 0. 0. 0.]\n",
      " [0. 0. 0. ... 0. 0. 0.]]\n",
      "Shape: (10748, 10748)\n"
     ]
    }
   ],
   "source": [
    "# Normalize the columns. This matrix is H.\n",
    "# h = normalize(raw_data, axis=0, norm='l1')\n",
    "\n",
    "h = normalize(adj_matrix, axis=0, norm='l1')\n",
    "print(\"Normalized matrix:\")\n",
    "print(h)\n",
    "print(\"Shape:\",h.shape)"
   ]
  },
  {
   "cell_type": "markdown",
   "id": "c08b711a",
   "metadata": {},
   "source": [
    "### Dangling nodes matrix (d)"
   ]
  },
  {
   "cell_type": "code",
   "execution_count": 7,
   "id": "34fc3c30",
   "metadata": {},
   "outputs": [
    {
     "name": "stdout",
     "output_type": "stream",
     "text": [
      "[0. 0. 0. ... 0. 0. 0.]\n",
      "(10748,)\n"
     ]
    }
   ],
   "source": [
    "# Dangling Nodes\n",
    "# d = np.matrix('0 1 0 0 0 0')\n",
    "\n",
    "dangling_node = np.zeros((nodes))\n",
    "for i in range(nodes):\n",
    "    count = 0\n",
    "    for j in range(nodes):\n",
    "        if h[j][i]==0:\n",
    "            count+=1\n",
    "    if count == nodes:\n",
    "        dangling_node[i] = 1\n",
    "print(dangling_node)\n",
    "print(dangling_node.shape)\n"
   ]
  },
  {
   "cell_type": "markdown",
   "id": "2709ac6b",
   "metadata": {},
   "source": [
    "### Article vector (a)"
   ]
  },
  {
   "cell_type": "code",
   "execution_count": 8,
   "id": "92e5ecb7",
   "metadata": {},
   "outputs": [
    {
     "name": "stdout",
     "output_type": "stream",
     "text": [
      "[[9.30405657e-05]\n",
      " [9.30405657e-05]\n",
      " [9.30405657e-05]\n",
      " ...\n",
      " [9.30405657e-05]\n",
      " [9.30405657e-05]\n",
      " [9.30405657e-05]]\n",
      "(10748, 1)\n"
     ]
    }
   ],
   "source": [
    "# Article vector\n",
    "# a = np.array([3/14, 2/14, 5/14, 1/14, 2/14, 1/14]).reshape(-1, 1)\n",
    "\n",
    "a = np.full((1, nodes), 1)\n",
    "a = a.T\n",
    "\n",
    "article_matrix_sum = 0\n",
    "\n",
    "for i in range(nodes):\n",
    "    article_matrix_sum = article_matrix_sum + a[i][0]\n",
    "a = a/article_matrix_sum\n",
    "print(a)\n",
    "print(a.shape)"
   ]
  },
  {
   "cell_type": "markdown",
   "id": "4eb51b29",
   "metadata": {},
   "source": [
    "### Initial start vector"
   ]
  },
  {
   "cell_type": "code",
   "execution_count": 9,
   "id": "68de1b73",
   "metadata": {},
   "outputs": [
    {
     "name": "stdout",
     "output_type": "stream",
     "text": [
      "[[9.30405657e-05]\n",
      " [9.30405657e-05]\n",
      " [9.30405657e-05]\n",
      " ...\n",
      " [9.30405657e-05]\n",
      " [9.30405657e-05]\n",
      " [9.30405657e-05]]\n",
      "Shape: (10748, 1)\n"
     ]
    }
   ],
   "source": [
    "# Initial start vector\n",
    "# pi = np.array([1/6, 1/6, 1/6, 1/6, 1/6, 1/6]).reshape(-1, 1)\n",
    "\n",
    "pi = np.full((nodes, 1), 1/nodes)\n",
    "print(pi)\n",
    "print(\"Shape:\",pi.shape)"
   ]
  },
  {
   "cell_type": "markdown",
   "id": "c9c6f202",
   "metadata": {},
   "source": [
    "### Calculating influence matrix"
   ]
  },
  {
   "cell_type": "code",
   "execution_count": 10,
   "id": "d5f7ef93",
   "metadata": {},
   "outputs": [
    {
     "name": "stdout",
     "output_type": "stream",
     "text": [
      "Influnce vector:\n",
      "[[4.38729652e-05]\n",
      " [2.74427015e-05]\n",
      " [1.47081207e-04]\n",
      " ...\n",
      " [4.08557473e-05]\n",
      " [1.56821263e-05]\n",
      " [3.67818515e-05]]\n"
     ]
    }
   ],
   "source": [
    "influence_vector = np.full((1, nodes), 0) #Creating influence vector of shape (1,n), where all elements = 0\n",
    "pi_initial_matrix = pi \n",
    "condition = 0.1 #providing initial condition to enter while loop\n",
    "\n",
    "iter = 0 # number of iterations\n",
    "while condition >= epsilon:\n",
    "    # alpha x H . pi + [alpha x d . pi + (1-alpha)].a\n",
    "    influence_vector = alpha*np.dot(h,pi_initial_matrix) + np.dot(a,[alpha*np.dot(dangling_node,pi_initial_matrix)+(1-alpha)])\n",
    "    array_temp = np.subtract(influence_vector,pi_initial_matrix)\n",
    "    condition = np.linalg.norm(array_temp, ord=1)\n",
    "    pi_initial_matrix=influence_vector\n",
    "    iter+=1\n",
    "stop_time = time.time()\n",
    "print(\"Influnce vector:\")\n",
    "print(influence_vector)"
   ]
  },
  {
   "cell_type": "markdown",
   "id": "0b93d4b7",
   "metadata": {},
   "source": [
    "### Calculating Eigenfactor"
   ]
  },
  {
   "cell_type": "code",
   "execution_count": 11,
   "id": "6dc7c285",
   "metadata": {},
   "outputs": [
    {
     "name": "stdout",
     "output_type": "stream",
     "text": [
      "Eigen Factor:\n",
      "[[0.00346107]\n",
      " [0.00150851]\n",
      " [0.0157262 ]\n",
      " ...\n",
      " [0.00310253]\n",
      " [0.00011092]\n",
      " [0.00261838]]\n"
     ]
    }
   ],
   "source": [
    "# H . (influence_vector)\n",
    "Eigenfactor = np.dot(h, influence_vector)\n",
    "EF_sum =0\n",
    "\n",
    "# sum(H . (influence_vector))\n",
    "for i in range(nodes):\n",
    "    EF_sum = EF_sum + Eigenfactor[i]\n",
    "\n",
    "# Normalizing EF matrix [Eigenfactor/sum of Eigenfactor] and multiplying by 100\n",
    "Eigenfactor = (Eigenfactor/EF_sum)*100\n",
    "\n",
    "print(\"Eigen Factor:\")\n",
    "print(Eigenfactor)"
   ]
  },
  {
   "cell_type": "markdown",
   "id": "c2717228",
   "metadata": {},
   "source": [
    "### a. Scores for the top 20 journals"
   ]
  },
  {
   "cell_type": "code",
   "execution_count": 12,
   "id": "095da363",
   "metadata": {},
   "outputs": [
    {
     "name": "stdout",
     "output_type": "stream",
     "text": [
      "[[1.44811869]\n",
      " [1.41271864]\n",
      " [1.23503457]\n",
      " [0.67950236]\n",
      " [0.66487912]\n",
      " [0.63463484]\n",
      " [0.57723297]\n",
      " [0.48081512]\n",
      " [0.47777265]\n",
      " [0.4397348 ]\n",
      " [0.42971775]\n",
      " [0.38620652]\n",
      " [0.38512026]\n",
      " [0.3795776 ]\n",
      " [0.37278901]\n",
      " [0.33030628]\n",
      " [0.3275079 ]\n",
      " [0.31927167]\n",
      " [0.31677903]\n",
      " [0.31125705]]\n"
     ]
    }
   ],
   "source": [
    "Eigenfactor = Eigenfactor[Eigenfactor[:, 0].argsort()][::-1][:20]\n",
    "print(Eigenfactor)"
   ]
  },
  {
   "cell_type": "markdown",
   "id": "e6b1adb8",
   "metadata": {},
   "source": [
    "### b. Time taken to run the code on the real network:"
   ]
  },
  {
   "cell_type": "code",
   "execution_count": 13,
   "id": "66f2f0f7",
   "metadata": {},
   "outputs": [
    {
     "name": "stdout",
     "output_type": "stream",
     "text": [
      "Time taken for the iterations: ~ 1 mins 34 seconds.\n"
     ]
    }
   ],
   "source": [
    "time_taken = (stop_time - start_time)\n",
    "# print(time_taken)\n",
    "time_secs = round(time_taken%60)\n",
    "time_mins = int(time_taken/60)\n",
    "print(\"Time taken for the iterations: ~\",time_mins,\"mins\",time_secs, \"seconds.\")"
   ]
  },
  {
   "cell_type": "markdown",
   "id": "abc5be3d",
   "metadata": {},
   "source": [
    "### c. Number of iterations to get to the answer"
   ]
  },
  {
   "cell_type": "code",
   "execution_count": 14,
   "id": "486442cb",
   "metadata": {},
   "outputs": [
    {
     "name": "stdout",
     "output_type": "stream",
     "text": [
      "Iterations: 32\n"
     ]
    }
   ],
   "source": [
    "print(\"Iterations:\",iter)"
   ]
  }
 ],
 "metadata": {
  "kernelspec": {
   "display_name": "Python 3 (ipykernel)",
   "language": "python",
   "name": "python3"
  },
  "language_info": {
   "codemirror_mode": {
    "name": "ipython",
    "version": 3
   },
   "file_extension": ".py",
   "mimetype": "text/x-python",
   "name": "python",
   "nbconvert_exporter": "python",
   "pygments_lexer": "ipython3",
   "version": "3.7.9"
  }
 },
 "nbformat": 4,
 "nbformat_minor": 5
}
